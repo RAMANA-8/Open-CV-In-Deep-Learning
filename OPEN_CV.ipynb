{
  "cells": [
    {
      "cell_type": "code",
      "execution_count": null,
      "id": "cef21679",
      "metadata": {
        "id": "cef21679",
        "outputId": "5ed69141-a5e5-4f9b-c0d2-5bddf005126f"
      },
      "outputs": [
        {
          "name": "stdout",
          "output_type": "stream",
          "text": [
            "1/1 [==============================] - 1s 1s/step\n",
            "Predictions:\n",
            "1: stupa (0.33)\n",
            "2: church (0.10)\n",
            "3: crane (0.07)\n"
          ]
        }
      ],
      "source": [
        "import cv2\n",
        "import numpy as np\n",
        "import tensorflow as tf\n",
        "from tensorflow.keras.applications import MobileNetV2\n",
        "from tensorflow.keras.applications.mobilenet_v2 import preprocess_input, decode_predictions\n",
        "\n",
        "# Load a pre-trained MobileNetV2 model\n",
        "model = MobileNetV2(weights='imagenet')\n",
        "\n",
        "# Define a function to preprocess the image\n",
        "def preprocess_image(image_path):\n",
        "    # Read the image from the file\n",
        "    image = cv2.imread(image_path)\n",
        "\n",
        "    # Resize the image to the size expected by MobileNetV2\n",
        "    image_resized = cv2.resize(image, (224, 224))\n",
        "\n",
        "    # Convert the image from BGR to RGB\n",
        "    image_rgb = cv2.cvtColor(image_resized, cv2.COLOR_BGR2RGB)\n",
        "\n",
        "    # Convert the image to a float32 array and normalize\n",
        "    image_array = np.array(image_rgb, dtype=np.float32)\n",
        "    image_array = preprocess_input(image_array)\n",
        "\n",
        "    # Expand dimensions to match the model input shape\n",
        "    image_array = np.expand_dims(image_array, axis=0)\n",
        "\n",
        "    return image_array\n",
        "\n",
        "# Define a function to make predictions\n",
        "def predict_image(image_array):\n",
        "    # Make predictions using the pre-trained model\n",
        "    predictions = model.predict(image_array)\n",
        "\n",
        "    # Decode the predictions to get human-readable labels\n",
        "    decoded_predictions = decode_predictions(predictions, top=3)[0]\n",
        "\n",
        "    return decoded_predictions\n",
        "\n",
        "# Define a function to display results\n",
        "def display_results(image_path, predictions):\n",
        "    # Read the original image\n",
        "    image = cv2.imread(image_path)\n",
        "\n",
        "    # Display the image\n",
        "    cv2.imshow('Image', image)\n",
        "\n",
        "    # Print the predictions\n",
        "    print(\"Predictions:\")\n",
        "    for i, (imagenet_id, label, score) in enumerate(predictions):\n",
        "        print(f\"{i + 1}: {label} ({score:.2f})\")\n",
        "\n",
        "    # Wait for a key press and close the window\n",
        "    cv2.waitKey(0)\n",
        "    cv2.destroyAllWindows()\n",
        "\n",
        "# Path to the image file\n",
        "image_path = 'file.jpg'\n",
        "\n",
        "# Preprocess the image\n",
        "preprocessed_image = preprocess_image(image_path)\n",
        "\n",
        "# Make predictions\n",
        "predictions = predict_image(preprocessed_image)\n",
        "\n",
        "# Display results\n",
        "display_results(image_path, predictions)\n"
      ]
    }
  ],
  "metadata": {
    "kernelspec": {
      "display_name": "Python 3 (ipykernel)",
      "language": "python",
      "name": "python3"
    },
    "language_info": {
      "codemirror_mode": {
        "name": "ipython",
        "version": 3
      },
      "file_extension": ".py",
      "mimetype": "text/x-python",
      "name": "python",
      "nbconvert_exporter": "python",
      "pygments_lexer": "ipython3",
      "version": "3.9.12"
    },
    "colab": {
      "provenance": []
    }
  },
  "nbformat": 4,
  "nbformat_minor": 5
}